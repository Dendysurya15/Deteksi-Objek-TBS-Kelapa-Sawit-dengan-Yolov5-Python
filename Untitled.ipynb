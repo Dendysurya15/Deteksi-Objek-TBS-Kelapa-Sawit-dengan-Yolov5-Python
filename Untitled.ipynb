{
 "cells": [
  {
   "cell_type": "markdown",
   "id": "47c7d9e1-bdc6-4e1f-a6ea-2c1839753f17",
   "metadata": {},
   "source": [
    "CD dulu ke yolov5"
   ]
  },
  {
   "cell_type": "code",
   "execution_count": null,
   "id": "8f23b333-d6bc-49c9-8364-675e6a6f377d",
   "metadata": {},
   "outputs": [],
   "source": [
    "cd /home/grading/grading/yolov5/"
   ]
  },
  {
   "cell_type": "markdown",
   "id": "00946c6f-b653-4072-a1a1-3b20d1b5b83e",
   "metadata": {},
   "source": [
    "1. Copy file /home/grading/grading/yolov5/train_data/ + nama direktori baru (contoh tanggal dan bulan)\n",
    "2. Bikin folder all\n",
    "3. Bikin folder kosong dan sampel di dalam all\n",
    "4. Copy semua file JPEG dan TXT ke dalam folder sampel\n",
    "5. Copy semua file tanpa sampel/kosong ke dalam folder kosong"
   ]
  },
  {
   "cell_type": "markdown",
   "id": "b1f2913f-f708-4025-b4b2-f1daf3501495",
   "metadata": {},
   "source": [
    "cd ke /home/grading/grading/script/ untuk membuka folder script"
   ]
  },
  {
   "cell_type": "code",
   "execution_count": null,
   "id": "c7220db8-441c-404f-b5bd-4fa66278e40e",
   "metadata": {},
   "outputs": [],
   "source": [
    "cd /home/grading/grading/script/ "
   ]
  },
  {
   "cell_type": "markdown",
   "id": "76d0a6c9-c000-4bbe-8767-f7864416d22b",
   "metadata": {},
   "source": [
    "Jalankan script split_test_train.py untuk memisahkan sampel test dan train"
   ]
  },
  {
   "cell_type": "code",
   "execution_count": null,
   "id": "de1f9216-5255-44c4-9eb0-6bfccec3474a",
   "metadata": {},
   "outputs": [],
   "source": [
    "python split_test_train.py --datadir \"home/grading/grading/yolov5/train_data/3_Mei/all\" --split 0.1 --output \"home/grading/grading/yolov5/train_data/3_Mei/\""
   ]
  }
 ],
 "metadata": {
  "kernelspec": {
   "display_name": "Python 3 (ipykernel)",
   "language": "python",
   "name": "python3"
  },
  "language_info": {
   "codemirror_mode": {
    "name": "ipython",
    "version": 3
   },
   "file_extension": ".py",
   "mimetype": "text/x-python",
   "name": "python",
   "nbconvert_exporter": "python",
   "pygments_lexer": "ipython3",
   "version": "3.10.4"
  }
 },
 "nbformat": 4,
 "nbformat_minor": 5
}
